{
 "cells": [
  {
   "cell_type": "code",
   "execution_count": 11,
   "id": "f41ac7f5",
   "metadata": {},
   "outputs": [
    {
     "name": "stderr",
     "output_type": "stream",
     "text": [
      "/var/folders/6r/y7n5k5ss483dvgr1svv3fq_80000gn/T/ipykernel_61798/1551392377.py:21: FutureWarning: The default of observed=False is deprecated and will be changed to True in a future version of pandas. Pass observed=False to retain current behavior or observed=True to adopt the future default and silence this warning.\n",
      "  df[\"capacity\"] = (df.groupby(\"station_id\")[\"capacity\"]\n"
     ]
    },
    {
     "name": "stdout",
     "output_type": "stream",
     "text": [
      "Rows: 3304414 | Stations: 1468\n"
     ]
    },
    {
     "data": {
      "application/vnd.microsoft.datawrangler.viewer.v0+json": {
       "columns": [
        {
         "name": "index",
         "rawType": "int64",
         "type": "integer"
        },
        {
         "name": "ts",
         "rawType": "datetime64[ns, UTC]",
         "type": "unknown"
        },
        {
         "name": "station_id",
         "rawType": "category",
         "type": "unknown"
        },
        {
         "name": "bikes_available",
         "rawType": "float32",
         "type": "float"
        },
        {
         "name": "capacity",
         "rawType": "float32",
         "type": "float"
        },
        {
         "name": "occ",
         "rawType": "float32",
         "type": "float"
        }
       ],
       "ref": "2bdf2b40-efe6-4e96-8396-7ab99b31a917",
       "rows": [
        [
         "0",
         "2025-08-21 17:45:00+00:00",
         "1002059045",
         "23.0",
         "27.0",
         "0.8518519"
        ],
        [
         "1",
         "2025-08-21 17:50:00+00:00",
         "1002059045",
         "25.0",
         "27.0",
         "0.9259259"
        ],
        [
         "2",
         "2025-08-21 17:55:00+00:00",
         "1002059045",
         "23.0",
         "27.0",
         "0.8518519"
        ]
       ],
       "shape": {
        "columns": 5,
        "rows": 3
       }
      },
      "text/html": [
       "<div>\n",
       "<style scoped>\n",
       "    .dataframe tbody tr th:only-of-type {\n",
       "        vertical-align: middle;\n",
       "    }\n",
       "\n",
       "    .dataframe tbody tr th {\n",
       "        vertical-align: top;\n",
       "    }\n",
       "\n",
       "    .dataframe thead th {\n",
       "        text-align: right;\n",
       "    }\n",
       "</style>\n",
       "<table border=\"1\" class=\"dataframe\">\n",
       "  <thead>\n",
       "    <tr style=\"text-align: right;\">\n",
       "      <th></th>\n",
       "      <th>ts</th>\n",
       "      <th>station_id</th>\n",
       "      <th>bikes_available</th>\n",
       "      <th>capacity</th>\n",
       "      <th>occ</th>\n",
       "    </tr>\n",
       "  </thead>\n",
       "  <tbody>\n",
       "    <tr>\n",
       "      <th>0</th>\n",
       "      <td>2025-08-21 17:45:00+00:00</td>\n",
       "      <td>1002059045</td>\n",
       "      <td>23.0</td>\n",
       "      <td>27.0</td>\n",
       "      <td>0.851852</td>\n",
       "    </tr>\n",
       "    <tr>\n",
       "      <th>1</th>\n",
       "      <td>2025-08-21 17:50:00+00:00</td>\n",
       "      <td>1002059045</td>\n",
       "      <td>25.0</td>\n",
       "      <td>27.0</td>\n",
       "      <td>0.925926</td>\n",
       "    </tr>\n",
       "    <tr>\n",
       "      <th>2</th>\n",
       "      <td>2025-08-21 17:55:00+00:00</td>\n",
       "      <td>1002059045</td>\n",
       "      <td>23.0</td>\n",
       "      <td>27.0</td>\n",
       "      <td>0.851852</td>\n",
       "    </tr>\n",
       "  </tbody>\n",
       "</table>\n",
       "</div>"
      ],
      "text/plain": [
       "                         ts  station_id  bikes_available  capacity       occ\n",
       "0 2025-08-21 17:45:00+00:00  1002059045             23.0      27.0  0.851852\n",
       "1 2025-08-21 17:50:00+00:00  1002059045             25.0      27.0  0.925926\n",
       "2 2025-08-21 17:55:00+00:00  1002059045             23.0      27.0  0.851852"
      ]
     },
     "execution_count": 11,
     "metadata": {},
     "output_type": "execute_result"
    }
   ],
   "source": [
    "# === 1) Setup & load ===\n",
    "import numpy as np, pandas as pd\n",
    "from pathlib import Path\n",
    "from sklearn.metrics import mean_absolute_error\n",
    "\n",
    "# FICHIER À ADAPTER SI BESOIN\n",
    "DATA = Path(\"data/raw/velib_timeseries_5min.csv\")\n",
    "\n",
    "FREQ_MIN = 5\n",
    "HORIZONS = [15, 30, 60]      # minutes\n",
    "SPLIT_TRAINTEST = 0.70       # 70% / 30% (split temporel)\n",
    "SPLIT_TRAINVAL  = 0.85       # 85% / 15% (dans TRAIN pour early stopping)\n",
    "\n",
    "# Chargement\n",
    "usecols = [\"ts\",\"station_id\",\"bikes_available\",\"capacity\"]\n",
    "dtypes  = {\"station_id\":\"category\",\"bikes_available\":\"float32\",\"capacity\":\"float32\"}\n",
    "df = pd.read_csv(DATA, usecols=usecols, dtype=dtypes, parse_dates=[\"ts\"])\\\n",
    "       .sort_values([\"station_id\",\"ts\"]).reset_index(drop=True)\n",
    "\n",
    "# Capacité robuste par station (pour ratio & clip)\n",
    "df[\"capacity\"] = (df.groupby(\"station_id\")[\"capacity\"]\n",
    "                    .transform(lambda s: s.ffill().bfill().fillna(s.max()))\n",
    "                    .astype(\"float32\"))\n",
    "df = df[df[\"capacity\"] > 0].copy()\n",
    "\n",
    "# Ratio d'occupation\n",
    "df[\"occ\"] = (df[\"bikes_available\"] / df[\"capacity\"]).clip(0, 1).astype(\"float32\")\n",
    "\n",
    "print(\"Rows:\", len(df), \"| Stations:\", df[\"station_id\"].nunique())\n",
    "df.head(3)\n"
   ]
  },
  {
   "cell_type": "code",
   "execution_count": 12,
   "id": "24170a89",
   "metadata": {},
   "outputs": [
    {
     "name": "stderr",
     "output_type": "stream",
     "text": [
      "/var/folders/6r/y7n5k5ss483dvgr1svv3fq_80000gn/T/ipykernel_61798/1036027159.py:5: FutureWarning: The default of observed=False is deprecated and will be changed to True in a future version of pandas. Pass observed=False to retain current behavior or observed=True to adopt the future default and silence this warning.\n",
      "  tmp[f\"occ_{h}\"] = tmp.groupby(\"station_id\")[\"occ\"].shift(-sh).astype(\"float32\")\n",
      "/var/folders/6r/y7n5k5ss483dvgr1svv3fq_80000gn/T/ipykernel_61798/1036027159.py:5: FutureWarning: The default of observed=False is deprecated and will be changed to True in a future version of pandas. Pass observed=False to retain current behavior or observed=True to adopt the future default and silence this warning.\n",
      "  tmp[f\"occ_{h}\"] = tmp.groupby(\"station_id\")[\"occ\"].shift(-sh).astype(\"float32\")\n",
      "/var/folders/6r/y7n5k5ss483dvgr1svv3fq_80000gn/T/ipykernel_61798/1036027159.py:5: FutureWarning: The default of observed=False is deprecated and will be changed to True in a future version of pandas. Pass observed=False to retain current behavior or observed=True to adopt the future default and silence this warning.\n",
      "  tmp[f\"occ_{h}\"] = tmp.groupby(\"station_id\")[\"occ\"].shift(-sh).astype(\"float32\")\n"
     ]
    },
    {
     "name": "stdout",
     "output_type": "stream",
     "text": [
      "MAE Naïve (bikes): {15: 0.75, 30: 1.156, 60: 1.739}\n"
     ]
    }
   ],
   "source": [
    "# === 2) Baseline Naïve (bikes) ===\n",
    "tmp = df.copy()\n",
    "for h in HORIZONS:\n",
    "    sh = h // FREQ_MIN\n",
    "    tmp[f\"occ_{h}\"] = tmp.groupby(\"station_id\")[\"occ\"].shift(-sh).astype(\"float32\")\n",
    "\n",
    "cut = tmp[\"ts\"].quantile(SPLIT_TRAINTEST)\n",
    "test_naive = tmp[tmp[\"ts\"] > cut].copy()\n",
    "\n",
    "mae_naive_bikes = {}\n",
    "for h in HORIZONS:\n",
    "    y = test_naive[f\"occ_{h}\"].dropna()\n",
    "    p_occ = test_naive.loc[y.index, \"occ\"]\n",
    "    cap   = test_naive.loc[y.index, \"capacity\"]\n",
    "    mae_naive_bikes[h] = float(mean_absolute_error(y*cap, p_occ*cap))\n",
    "\n",
    "print(\"MAE Naïve (bikes):\", {h: round(v,3) for h,v in mae_naive_bikes.items()})\n"
   ]
  },
  {
   "cell_type": "code",
   "execution_count": 13,
   "id": "b47b15ba",
   "metadata": {},
   "outputs": [
    {
     "name": "stderr",
     "output_type": "stream",
     "text": [
      "/var/folders/6r/y7n5k5ss483dvgr1svv3fq_80000gn/T/ipykernel_61798/2016304851.py:16: FutureWarning: The default of observed=False is deprecated and will be changed to True in a future version of pandas. Pass observed=False to retain current behavior or observed=True to adopt the future default and silence this warning.\n",
      "  feat.groupby(\"station_id\")[\"occ\"].shift(1)\n",
      "/var/folders/6r/y7n5k5ss483dvgr1svv3fq_80000gn/T/ipykernel_61798/2016304851.py:23: FutureWarning: The default of observed=False is deprecated and will be changed to True in a future version of pandas. Pass observed=False to retain current behavior or observed=True to adopt the future default and silence this warning.\n",
      "  return feat.groupby(\"station_id\")[col].shift(k)\n",
      "/var/folders/6r/y7n5k5ss483dvgr1svv3fq_80000gn/T/ipykernel_61798/2016304851.py:23: FutureWarning: The default of observed=False is deprecated and will be changed to True in a future version of pandas. Pass observed=False to retain current behavior or observed=True to adopt the future default and silence this warning.\n",
      "  return feat.groupby(\"station_id\")[col].shift(k)\n",
      "/var/folders/6r/y7n5k5ss483dvgr1svv3fq_80000gn/T/ipykernel_61798/2016304851.py:23: FutureWarning: The default of observed=False is deprecated and will be changed to True in a future version of pandas. Pass observed=False to retain current behavior or observed=True to adopt the future default and silence this warning.\n",
      "  return feat.groupby(\"station_id\")[col].shift(k)\n",
      "/var/folders/6r/y7n5k5ss483dvgr1svv3fq_80000gn/T/ipykernel_61798/2016304851.py:23: FutureWarning: The default of observed=False is deprecated and will be changed to True in a future version of pandas. Pass observed=False to retain current behavior or observed=True to adopt the future default and silence this warning.\n",
      "  return feat.groupby(\"station_id\")[col].shift(k)\n",
      "/var/folders/6r/y7n5k5ss483dvgr1svv3fq_80000gn/T/ipykernel_61798/2016304851.py:23: FutureWarning: The default of observed=False is deprecated and will be changed to True in a future version of pandas. Pass observed=False to retain current behavior or observed=True to adopt the future default and silence this warning.\n",
      "  return feat.groupby(\"station_id\")[col].shift(k)\n",
      "/var/folders/6r/y7n5k5ss483dvgr1svv3fq_80000gn/T/ipykernel_61798/2016304851.py:23: FutureWarning: The default of observed=False is deprecated and will be changed to True in a future version of pandas. Pass observed=False to retain current behavior or observed=True to adopt the future default and silence this warning.\n",
      "  return feat.groupby(\"station_id\")[col].shift(k)\n",
      "/var/folders/6r/y7n5k5ss483dvgr1svv3fq_80000gn/T/ipykernel_61798/2016304851.py:23: FutureWarning: The default of observed=False is deprecated and will be changed to True in a future version of pandas. Pass observed=False to retain current behavior or observed=True to adopt the future default and silence this warning.\n",
      "  return feat.groupby(\"station_id\")[col].shift(k)\n",
      "/var/folders/6r/y7n5k5ss483dvgr1svv3fq_80000gn/T/ipykernel_61798/2016304851.py:23: FutureWarning: The default of observed=False is deprecated and will be changed to True in a future version of pandas. Pass observed=False to retain current behavior or observed=True to adopt the future default and silence this warning.\n",
      "  return feat.groupby(\"station_id\")[col].shift(k)\n",
      "/var/folders/6r/y7n5k5ss483dvgr1svv3fq_80000gn/T/ipykernel_61798/2016304851.py:23: FutureWarning: The default of observed=False is deprecated and will be changed to True in a future version of pandas. Pass observed=False to retain current behavior or observed=True to adopt the future default and silence this warning.\n",
      "  return feat.groupby(\"station_id\")[col].shift(k)\n",
      "/var/folders/6r/y7n5k5ss483dvgr1svv3fq_80000gn/T/ipykernel_61798/2016304851.py:23: FutureWarning: The default of observed=False is deprecated and will be changed to True in a future version of pandas. Pass observed=False to retain current behavior or observed=True to adopt the future default and silence this warning.\n",
      "  return feat.groupby(\"station_id\")[col].shift(k)\n",
      "/var/folders/6r/y7n5k5ss483dvgr1svv3fq_80000gn/T/ipykernel_61798/2016304851.py:23: FutureWarning: The default of observed=False is deprecated and will be changed to True in a future version of pandas. Pass observed=False to retain current behavior or observed=True to adopt the future default and silence this warning.\n",
      "  return feat.groupby(\"station_id\")[col].shift(k)\n",
      "/var/folders/6r/y7n5k5ss483dvgr1svv3fq_80000gn/T/ipykernel_61798/2016304851.py:23: FutureWarning: The default of observed=False is deprecated and will be changed to True in a future version of pandas. Pass observed=False to retain current behavior or observed=True to adopt the future default and silence this warning.\n",
      "  return feat.groupby(\"station_id\")[col].shift(k)\n",
      "/var/folders/6r/y7n5k5ss483dvgr1svv3fq_80000gn/T/ipykernel_61798/2016304851.py:40: FutureWarning: The default of observed=False is deprecated and will be changed to True in a future version of pandas. Pass observed=False to retain current behavior or observed=True to adopt the future default and silence this warning.\n",
      "  feat[\"occ_ema_fast\"] = (shift(\"occ\",1).groupby(feat[\"station_id\"]).apply(\n",
      "/var/folders/6r/y7n5k5ss483dvgr1svv3fq_80000gn/T/ipykernel_61798/2016304851.py:23: FutureWarning: The default of observed=False is deprecated and will be changed to True in a future version of pandas. Pass observed=False to retain current behavior or observed=True to adopt the future default and silence this warning.\n",
      "  return feat.groupby(\"station_id\")[col].shift(k)\n",
      "/var/folders/6r/y7n5k5ss483dvgr1svv3fq_80000gn/T/ipykernel_61798/2016304851.py:43: FutureWarning: The default of observed=False is deprecated and will be changed to True in a future version of pandas. Pass observed=False to retain current behavior or observed=True to adopt the future default and silence this warning.\n",
      "  feat[\"occ_ema_slow\"] = (shift(\"occ\",1).groupby(feat[\"station_id\"]).apply(\n"
     ]
    },
    {
     "name": "stdout",
     "output_type": "stream",
     "text": [
      "feat shape: (3304414, 30)\n"
     ]
    },
    {
     "name": "stderr",
     "output_type": "stream",
     "text": [
      "/var/folders/6r/y7n5k5ss483dvgr1svv3fq_80000gn/T/ipykernel_61798/2016304851.py:51: FutureWarning: The default of observed=False is deprecated and will be changed to True in a future version of pandas. Pass observed=False to retain current behavior or observed=True to adopt the future default and silence this warning.\n",
      "  feat[f\"occ_{h}\"] = feat.groupby(\"station_id\")[\"occ\"].shift(-sh).astype(\"float32\")\n",
      "/var/folders/6r/y7n5k5ss483dvgr1svv3fq_80000gn/T/ipykernel_61798/2016304851.py:51: FutureWarning: The default of observed=False is deprecated and will be changed to True in a future version of pandas. Pass observed=False to retain current behavior or observed=True to adopt the future default and silence this warning.\n",
      "  feat[f\"occ_{h}\"] = feat.groupby(\"station_id\")[\"occ\"].shift(-sh).astype(\"float32\")\n",
      "/var/folders/6r/y7n5k5ss483dvgr1svv3fq_80000gn/T/ipykernel_61798/2016304851.py:51: FutureWarning: The default of observed=False is deprecated and will be changed to True in a future version of pandas. Pass observed=False to retain current behavior or observed=True to adopt the future default and silence this warning.\n",
      "  feat[f\"occ_{h}\"] = feat.groupby(\"station_id\")[\"occ\"].shift(-sh).astype(\"float32\")\n"
     ]
    },
    {
     "data": {
      "application/vnd.microsoft.datawrangler.viewer.v0+json": {
       "columns": [
        {
         "name": "index",
         "rawType": "int64",
         "type": "integer"
        },
        {
         "name": "ts",
         "rawType": "datetime64[ns, UTC]",
         "type": "unknown"
        },
        {
         "name": "station_id",
         "rawType": "category",
         "type": "unknown"
        },
        {
         "name": "bikes_available",
         "rawType": "float32",
         "type": "float"
        },
        {
         "name": "capacity",
         "rawType": "float32",
         "type": "float"
        },
        {
         "name": "occ",
         "rawType": "float32",
         "type": "float"
        },
        {
         "name": "hour",
         "rawType": "uint8",
         "type": "integer"
        },
        {
         "name": "dow",
         "rawType": "uint8",
         "type": "integer"
        },
        {
         "name": "is_weekend",
         "rawType": "uint8",
         "type": "integer"
        },
        {
         "name": "hour_sin",
         "rawType": "float32",
         "type": "float"
        },
        {
         "name": "hour_cos",
         "rawType": "float32",
         "type": "float"
        },
        {
         "name": "hour_sin2",
         "rawType": "float32",
         "type": "float"
        },
        {
         "name": "hour_cos2",
         "rawType": "float32",
         "type": "float"
        },
        {
         "name": "occ_roll_180",
         "rawType": "float32",
         "type": "float"
        },
        {
         "name": "occ_lag_5",
         "rawType": "float32",
         "type": "float"
        },
        {
         "name": "occ_lag_10",
         "rawType": "float32",
         "type": "float"
        },
        {
         "name": "occ_lag_15",
         "rawType": "float32",
         "type": "float"
        },
        {
         "name": "occ_lag_30",
         "rawType": "float32",
         "type": "float"
        },
        {
         "name": "occ_lag_60",
         "rawType": "float32",
         "type": "float"
        },
        {
         "name": "occ_roll_60",
         "rawType": "float32",
         "type": "float"
        },
        {
         "name": "occ_roll_120",
         "rawType": "float32",
         "type": "float"
        },
        {
         "name": "occ_delta_5",
         "rawType": "float32",
         "type": "float"
        },
        {
         "name": "occ_delta_15",
         "rawType": "float32",
         "type": "float"
        },
        {
         "name": "occ_delta_30",
         "rawType": "float32",
         "type": "float"
        },
        {
         "name": "occ_delta_60",
         "rawType": "float32",
         "type": "float"
        },
        {
         "name": "occ_ema_fast",
         "rawType": "float32",
         "type": "float"
        },
        {
         "name": "occ_ema_slow",
         "rawType": "float32",
         "type": "float"
        },
        {
         "name": "occ_momentum",
         "rawType": "float32",
         "type": "float"
        },
        {
         "name": "occ_15",
         "rawType": "float32",
         "type": "float"
        },
        {
         "name": "occ_30",
         "rawType": "float32",
         "type": "float"
        },
        {
         "name": "occ_60",
         "rawType": "float32",
         "type": "float"
        }
       ],
       "ref": "c9b12cbc-e6fd-422d-bffc-ad6dd2c88153",
       "rows": [
        [
         "0",
         "2025-08-21 17:45:00+00:00",
         "1002059045",
         "23.0",
         "27.0",
         "0.8518519",
         "17",
         "3",
         "0",
         "-0.9659258",
         "-0.25881904",
         "0.5",
         "-0.8660254",
         null,
         null,
         null,
         null,
         null,
         null,
         null,
         null,
         null,
         null,
         null,
         null,
         null,
         null,
         null,
         "0.6666667",
         "0.8148148",
         "0.7037037"
        ],
        [
         "1",
         "2025-08-21 17:50:00+00:00",
         "1002059045",
         "25.0",
         "27.0",
         "0.9259259",
         "17",
         "3",
         "0",
         "-0.9659258",
         "-0.25881904",
         "0.5",
         "-0.8660254",
         null,
         "0.8518519",
         null,
         null,
         null,
         null,
         null,
         null,
         "0.07407403",
         null,
         null,
         null,
         "0.8518519",
         "0.8518519",
         "0.0",
         "0.6666667",
         "0.7777778",
         "0.7037037"
        ],
        [
         "2",
         "2025-08-21 17:55:00+00:00",
         "1002059045",
         "23.0",
         "27.0",
         "0.8518519",
         "17",
         "3",
         "0",
         "-0.9659258",
         "-0.25881904",
         "0.5",
         "-0.8660254",
         null,
         "0.9259259",
         "0.8518519",
         null,
         null,
         null,
         null,
         null,
         "-0.07407403",
         null,
         null,
         null,
         "0.8888889",
         "0.8592593",
         "0.029629588",
         "0.7407407",
         "0.7777778",
         "0.7037037"
        ]
       ],
       "shape": {
        "columns": 30,
        "rows": 3
       }
      },
      "text/html": [
       "<div>\n",
       "<style scoped>\n",
       "    .dataframe tbody tr th:only-of-type {\n",
       "        vertical-align: middle;\n",
       "    }\n",
       "\n",
       "    .dataframe tbody tr th {\n",
       "        vertical-align: top;\n",
       "    }\n",
       "\n",
       "    .dataframe thead th {\n",
       "        text-align: right;\n",
       "    }\n",
       "</style>\n",
       "<table border=\"1\" class=\"dataframe\">\n",
       "  <thead>\n",
       "    <tr style=\"text-align: right;\">\n",
       "      <th></th>\n",
       "      <th>ts</th>\n",
       "      <th>station_id</th>\n",
       "      <th>bikes_available</th>\n",
       "      <th>capacity</th>\n",
       "      <th>occ</th>\n",
       "      <th>hour</th>\n",
       "      <th>dow</th>\n",
       "      <th>is_weekend</th>\n",
       "      <th>hour_sin</th>\n",
       "      <th>hour_cos</th>\n",
       "      <th>...</th>\n",
       "      <th>occ_delta_5</th>\n",
       "      <th>occ_delta_15</th>\n",
       "      <th>occ_delta_30</th>\n",
       "      <th>occ_delta_60</th>\n",
       "      <th>occ_ema_fast</th>\n",
       "      <th>occ_ema_slow</th>\n",
       "      <th>occ_momentum</th>\n",
       "      <th>occ_15</th>\n",
       "      <th>occ_30</th>\n",
       "      <th>occ_60</th>\n",
       "    </tr>\n",
       "  </thead>\n",
       "  <tbody>\n",
       "    <tr>\n",
       "      <th>0</th>\n",
       "      <td>2025-08-21 17:45:00+00:00</td>\n",
       "      <td>1002059045</td>\n",
       "      <td>23.0</td>\n",
       "      <td>27.0</td>\n",
       "      <td>0.851852</td>\n",
       "      <td>17</td>\n",
       "      <td>3</td>\n",
       "      <td>0</td>\n",
       "      <td>-0.965926</td>\n",
       "      <td>-0.258819</td>\n",
       "      <td>...</td>\n",
       "      <td>NaN</td>\n",
       "      <td>NaN</td>\n",
       "      <td>NaN</td>\n",
       "      <td>NaN</td>\n",
       "      <td>NaN</td>\n",
       "      <td>NaN</td>\n",
       "      <td>NaN</td>\n",
       "      <td>0.666667</td>\n",
       "      <td>0.814815</td>\n",
       "      <td>0.703704</td>\n",
       "    </tr>\n",
       "    <tr>\n",
       "      <th>1</th>\n",
       "      <td>2025-08-21 17:50:00+00:00</td>\n",
       "      <td>1002059045</td>\n",
       "      <td>25.0</td>\n",
       "      <td>27.0</td>\n",
       "      <td>0.925926</td>\n",
       "      <td>17</td>\n",
       "      <td>3</td>\n",
       "      <td>0</td>\n",
       "      <td>-0.965926</td>\n",
       "      <td>-0.258819</td>\n",
       "      <td>...</td>\n",
       "      <td>0.074074</td>\n",
       "      <td>NaN</td>\n",
       "      <td>NaN</td>\n",
       "      <td>NaN</td>\n",
       "      <td>0.851852</td>\n",
       "      <td>0.851852</td>\n",
       "      <td>0.00000</td>\n",
       "      <td>0.666667</td>\n",
       "      <td>0.777778</td>\n",
       "      <td>0.703704</td>\n",
       "    </tr>\n",
       "    <tr>\n",
       "      <th>2</th>\n",
       "      <td>2025-08-21 17:55:00+00:00</td>\n",
       "      <td>1002059045</td>\n",
       "      <td>23.0</td>\n",
       "      <td>27.0</td>\n",
       "      <td>0.851852</td>\n",
       "      <td>17</td>\n",
       "      <td>3</td>\n",
       "      <td>0</td>\n",
       "      <td>-0.965926</td>\n",
       "      <td>-0.258819</td>\n",
       "      <td>...</td>\n",
       "      <td>-0.074074</td>\n",
       "      <td>NaN</td>\n",
       "      <td>NaN</td>\n",
       "      <td>NaN</td>\n",
       "      <td>0.888889</td>\n",
       "      <td>0.859259</td>\n",
       "      <td>0.02963</td>\n",
       "      <td>0.740741</td>\n",
       "      <td>0.777778</td>\n",
       "      <td>0.703704</td>\n",
       "    </tr>\n",
       "  </tbody>\n",
       "</table>\n",
       "<p>3 rows × 30 columns</p>\n",
       "</div>"
      ],
      "text/plain": [
       "                         ts  station_id  bikes_available  capacity       occ  \\\n",
       "0 2025-08-21 17:45:00+00:00  1002059045             23.0      27.0  0.851852   \n",
       "1 2025-08-21 17:50:00+00:00  1002059045             25.0      27.0  0.925926   \n",
       "2 2025-08-21 17:55:00+00:00  1002059045             23.0      27.0  0.851852   \n",
       "\n",
       "   hour  dow  is_weekend  hour_sin  hour_cos  ...  occ_delta_5  occ_delta_15  \\\n",
       "0    17    3           0 -0.965926 -0.258819  ...          NaN           NaN   \n",
       "1    17    3           0 -0.965926 -0.258819  ...     0.074074           NaN   \n",
       "2    17    3           0 -0.965926 -0.258819  ...    -0.074074           NaN   \n",
       "\n",
       "   occ_delta_30  occ_delta_60  occ_ema_fast  occ_ema_slow  occ_momentum  \\\n",
       "0           NaN           NaN           NaN           NaN           NaN   \n",
       "1           NaN           NaN      0.851852      0.851852       0.00000   \n",
       "2           NaN           NaN      0.888889      0.859259       0.02963   \n",
       "\n",
       "     occ_15    occ_30    occ_60  \n",
       "0  0.666667  0.814815  0.703704  \n",
       "1  0.666667  0.777778  0.703704  \n",
       "2  0.740741  0.777778  0.703704  \n",
       "\n",
       "[3 rows x 30 columns]"
      ]
     },
     "execution_count": 13,
     "metadata": {},
     "output_type": "execute_result"
    }
   ],
   "source": [
    "# === 3) Features & targets (with momentum) ===\n",
    "feat = df.copy().sort_values([\"station_id\",\"ts\"]).reset_index(drop=True)\n",
    "\n",
    "# Calendrier au temps t\n",
    "feat[\"hour\"] = feat[\"ts\"].dt.hour.astype(\"uint8\")\n",
    "feat[\"dow\"]  = feat[\"ts\"].dt.dayofweek.astype(\"uint8\")\n",
    "feat[\"is_weekend\"] = (feat[\"dow\"]>=5).astype(\"uint8\")\n",
    "feat[\"hour_sin\"] = np.sin(2*np.pi*feat[\"hour\"]/24).astype(\"float32\")\n",
    "feat[\"hour_cos\"] = np.cos(2*np.pi*feat[\"hour\"]/24).astype(\"float32\")\n",
    "# 2e harmonique (jour)\n",
    "feat[\"hour_sin2\"] = np.sin(4*np.pi*feat[\"hour\"]/24).astype(\"float32\")\n",
    "feat[\"hour_cos2\"] = np.cos(4*np.pi*feat[\"hour\"]/24).astype(\"float32\")\n",
    "\n",
    "# Rolling 3h (t-1) — tendance plus lente\n",
    "feat[\"occ_roll_180\"] = (\n",
    "    feat.groupby(\"station_id\")[\"occ\"].shift(1)\n",
    "        .rolling(36).mean().reset_index(level=0, drop=True)\n",
    ").astype(\"float32\")\n",
    "\n",
    "\n",
    "# Helper\n",
    "def shift(col, k): \n",
    "    return feat.groupby(\"station_id\")[col].shift(k)\n",
    "\n",
    "# Lags d'occupation (5,10,15,30,60)\n",
    "for k in [1,2,3,6,12]:\n",
    "    feat[f\"occ_lag_{k*FREQ_MIN}\"] = shift(\"occ\", k).astype(\"float32\")\n",
    "\n",
    "# Rolling moyens (t-1): 1h, 2h\n",
    "feat[\"occ_roll_60\"]  = shift(\"occ\", 1).rolling(12).mean().reset_index(level=0, drop=True).astype(\"float32\")\n",
    "feat[\"occ_roll_120\"] = shift(\"occ\", 1).rolling(24).mean().reset_index(level=0, drop=True).astype(\"float32\")\n",
    "\n",
    "# Deltas rapides (5/15) + longs (30/60)\n",
    "feat[\"occ_delta_5\"]  = (feat[\"occ\"] - shift(\"occ\", 1)).astype(\"float32\")\n",
    "feat[\"occ_delta_15\"] = (feat[\"occ\"] - shift(\"occ\", 3)).astype(\"float32\")\n",
    "feat[\"occ_delta_30\"] = (feat[\"occ\"] - shift(\"occ\", 6)).astype(\"float32\")\n",
    "feat[\"occ_delta_60\"] = (feat[\"occ\"] - shift(\"occ\", 12)).astype(\"float32\")\n",
    "\n",
    "# EMAs (t-1) et momentum\n",
    "feat[\"occ_ema_fast\"] = (shift(\"occ\",1).groupby(feat[\"station_id\"]).apply(\n",
    "    lambda s: s.ewm(alpha=0.5, adjust=False).mean()\n",
    ").reset_index(level=0, drop=True)).astype(\"float32\")\n",
    "feat[\"occ_ema_slow\"] = (shift(\"occ\",1).groupby(feat[\"station_id\"]).apply(\n",
    "    lambda s: s.ewm(alpha=0.1, adjust=False).mean()\n",
    ").reset_index(level=0, drop=True)).astype(\"float32\")\n",
    "feat[\"occ_momentum\"] = (feat[\"occ_ema_fast\"] - feat[\"occ_ema_slow\"]).astype(\"float32\")\n",
    "\n",
    "# Cibles: occupation future\n",
    "for h in HORIZONS:\n",
    "    sh = h // FREQ_MIN\n",
    "    feat[f\"occ_{h}\"] = feat.groupby(\"station_id\")[\"occ\"].shift(-sh).astype(\"float32\")\n",
    "\n",
    "print(\"feat shape:\", feat.shape)\n",
    "feat.head(3)\n"
   ]
  },
  {
   "cell_type": "code",
   "execution_count": 14,
   "id": "2de08dd2",
   "metadata": {},
   "outputs": [
    {
     "name": "stderr",
     "output_type": "stream",
     "text": [
      "/var/folders/6r/y7n5k5ss483dvgr1svv3fq_80000gn/T/ipykernel_61798/3593776824.py:8: FutureWarning: The default of observed=False is deprecated and will be changed to True in a future version of pandas. Pass observed=False to retain current behavior or observed=True to adopt the future default and silence this warning.\n",
      "  sta_mean = (train.groupby(\"station_id\")[\"occ\"].mean().rename(\"sta_mean_occ\")).reset_index()\n",
      "/var/folders/6r/y7n5k5ss483dvgr1svv3fq_80000gn/T/ipykernel_61798/3593776824.py:11: FutureWarning: The default of observed=False is deprecated and will be changed to True in a future version of pandas. Pass observed=False to retain current behavior or observed=True to adopt the future default and silence this warning.\n",
      "  .groupby([\"station_id\",\"dow\",\"hour\"])[\"occ\"].median()\n"
     ]
    },
    {
     "name": "stdout",
     "output_type": "stream",
     "text": [
      "train/test: (2313255, 33) (991159, 33)\n"
     ]
    },
    {
     "data": {
      "application/vnd.microsoft.datawrangler.viewer.v0+json": {
       "columns": [
        {
         "name": "index",
         "rawType": "int64",
         "type": "integer"
        },
        {
         "name": "ts",
         "rawType": "datetime64[ns, UTC]",
         "type": "unknown"
        },
        {
         "name": "station_id",
         "rawType": "category",
         "type": "unknown"
        },
        {
         "name": "bikes_available",
         "rawType": "float32",
         "type": "float"
        },
        {
         "name": "capacity",
         "rawType": "float32",
         "type": "float"
        },
        {
         "name": "occ",
         "rawType": "float32",
         "type": "float"
        },
        {
         "name": "hour",
         "rawType": "uint8",
         "type": "integer"
        },
        {
         "name": "dow",
         "rawType": "uint8",
         "type": "integer"
        },
        {
         "name": "is_weekend",
         "rawType": "uint8",
         "type": "integer"
        },
        {
         "name": "hour_sin",
         "rawType": "float32",
         "type": "float"
        },
        {
         "name": "hour_cos",
         "rawType": "float32",
         "type": "float"
        },
        {
         "name": "hour_sin2",
         "rawType": "float32",
         "type": "float"
        },
        {
         "name": "hour_cos2",
         "rawType": "float32",
         "type": "float"
        },
        {
         "name": "occ_roll_180",
         "rawType": "float32",
         "type": "float"
        },
        {
         "name": "occ_lag_5",
         "rawType": "float32",
         "type": "float"
        },
        {
         "name": "occ_lag_10",
         "rawType": "float32",
         "type": "float"
        },
        {
         "name": "occ_lag_15",
         "rawType": "float32",
         "type": "float"
        },
        {
         "name": "occ_lag_30",
         "rawType": "float32",
         "type": "float"
        },
        {
         "name": "occ_lag_60",
         "rawType": "float32",
         "type": "float"
        },
        {
         "name": "occ_roll_60",
         "rawType": "float32",
         "type": "float"
        },
        {
         "name": "occ_roll_120",
         "rawType": "float32",
         "type": "float"
        },
        {
         "name": "occ_delta_5",
         "rawType": "float32",
         "type": "float"
        },
        {
         "name": "occ_delta_15",
         "rawType": "float32",
         "type": "float"
        },
        {
         "name": "occ_delta_30",
         "rawType": "float32",
         "type": "float"
        },
        {
         "name": "occ_delta_60",
         "rawType": "float32",
         "type": "float"
        },
        {
         "name": "occ_ema_fast",
         "rawType": "float32",
         "type": "float"
        },
        {
         "name": "occ_ema_slow",
         "rawType": "float32",
         "type": "float"
        },
        {
         "name": "occ_momentum",
         "rawType": "float32",
         "type": "float"
        },
        {
         "name": "occ_15",
         "rawType": "float32",
         "type": "float"
        },
        {
         "name": "occ_30",
         "rawType": "float32",
         "type": "float"
        },
        {
         "name": "occ_60",
         "rawType": "float32",
         "type": "float"
        },
        {
         "name": "sta_mean_occ",
         "rawType": "float32",
         "type": "float"
        },
        {
         "name": "sta_hdh_occ",
         "rawType": "float32",
         "type": "float"
        },
        {
         "name": "occ_now",
         "rawType": "float32",
         "type": "float"
        }
       ],
       "ref": "2d03e77e-070c-43e0-a138-181146d630b8",
       "rows": [
        [
         "0",
         "2025-08-21 17:45:00+00:00",
         "1002059045",
         "23.0",
         "27.0",
         "0.8518519",
         "17",
         "3",
         "0",
         "-0.9659258",
         "-0.25881904",
         "0.5",
         "-0.8660254",
         null,
         null,
         null,
         null,
         null,
         null,
         null,
         null,
         null,
         null,
         null,
         null,
         null,
         null,
         null,
         "0.6666667",
         "0.8148148",
         "0.7037037",
         "0.57408583",
         "0.7407407",
         "0.8518519"
        ],
        [
         "1",
         "2025-08-21 17:50:00+00:00",
         "1002059045",
         "25.0",
         "27.0",
         "0.9259259",
         "17",
         "3",
         "0",
         "-0.9659258",
         "-0.25881904",
         "0.5",
         "-0.8660254",
         null,
         "0.8518519",
         null,
         null,
         null,
         null,
         null,
         null,
         "0.07407403",
         null,
         null,
         null,
         "0.8518519",
         "0.8518519",
         "0.0",
         "0.6666667",
         "0.7777778",
         "0.7037037",
         "0.57408583",
         "0.7407407",
         "0.9259259"
        ]
       ],
       "shape": {
        "columns": 33,
        "rows": 2
       }
      },
      "text/html": [
       "<div>\n",
       "<style scoped>\n",
       "    .dataframe tbody tr th:only-of-type {\n",
       "        vertical-align: middle;\n",
       "    }\n",
       "\n",
       "    .dataframe tbody tr th {\n",
       "        vertical-align: top;\n",
       "    }\n",
       "\n",
       "    .dataframe thead th {\n",
       "        text-align: right;\n",
       "    }\n",
       "</style>\n",
       "<table border=\"1\" class=\"dataframe\">\n",
       "  <thead>\n",
       "    <tr style=\"text-align: right;\">\n",
       "      <th></th>\n",
       "      <th>ts</th>\n",
       "      <th>station_id</th>\n",
       "      <th>bikes_available</th>\n",
       "      <th>capacity</th>\n",
       "      <th>occ</th>\n",
       "      <th>hour</th>\n",
       "      <th>dow</th>\n",
       "      <th>is_weekend</th>\n",
       "      <th>hour_sin</th>\n",
       "      <th>hour_cos</th>\n",
       "      <th>...</th>\n",
       "      <th>occ_delta_60</th>\n",
       "      <th>occ_ema_fast</th>\n",
       "      <th>occ_ema_slow</th>\n",
       "      <th>occ_momentum</th>\n",
       "      <th>occ_15</th>\n",
       "      <th>occ_30</th>\n",
       "      <th>occ_60</th>\n",
       "      <th>sta_mean_occ</th>\n",
       "      <th>sta_hdh_occ</th>\n",
       "      <th>occ_now</th>\n",
       "    </tr>\n",
       "  </thead>\n",
       "  <tbody>\n",
       "    <tr>\n",
       "      <th>0</th>\n",
       "      <td>2025-08-21 17:45:00+00:00</td>\n",
       "      <td>1002059045</td>\n",
       "      <td>23.0</td>\n",
       "      <td>27.0</td>\n",
       "      <td>0.851852</td>\n",
       "      <td>17</td>\n",
       "      <td>3</td>\n",
       "      <td>0</td>\n",
       "      <td>-0.965926</td>\n",
       "      <td>-0.258819</td>\n",
       "      <td>...</td>\n",
       "      <td>NaN</td>\n",
       "      <td>NaN</td>\n",
       "      <td>NaN</td>\n",
       "      <td>NaN</td>\n",
       "      <td>0.666667</td>\n",
       "      <td>0.814815</td>\n",
       "      <td>0.703704</td>\n",
       "      <td>0.574086</td>\n",
       "      <td>0.740741</td>\n",
       "      <td>0.851852</td>\n",
       "    </tr>\n",
       "    <tr>\n",
       "      <th>1</th>\n",
       "      <td>2025-08-21 17:50:00+00:00</td>\n",
       "      <td>1002059045</td>\n",
       "      <td>25.0</td>\n",
       "      <td>27.0</td>\n",
       "      <td>0.925926</td>\n",
       "      <td>17</td>\n",
       "      <td>3</td>\n",
       "      <td>0</td>\n",
       "      <td>-0.965926</td>\n",
       "      <td>-0.258819</td>\n",
       "      <td>...</td>\n",
       "      <td>NaN</td>\n",
       "      <td>0.851852</td>\n",
       "      <td>0.851852</td>\n",
       "      <td>0.0</td>\n",
       "      <td>0.666667</td>\n",
       "      <td>0.777778</td>\n",
       "      <td>0.703704</td>\n",
       "      <td>0.574086</td>\n",
       "      <td>0.740741</td>\n",
       "      <td>0.925926</td>\n",
       "    </tr>\n",
       "  </tbody>\n",
       "</table>\n",
       "<p>2 rows × 33 columns</p>\n",
       "</div>"
      ],
      "text/plain": [
       "                         ts  station_id  bikes_available  capacity       occ  \\\n",
       "0 2025-08-21 17:45:00+00:00  1002059045             23.0      27.0  0.851852   \n",
       "1 2025-08-21 17:50:00+00:00  1002059045             25.0      27.0  0.925926   \n",
       "\n",
       "   hour  dow  is_weekend  hour_sin  hour_cos  ...  occ_delta_60  occ_ema_fast  \\\n",
       "0    17    3           0 -0.965926 -0.258819  ...           NaN           NaN   \n",
       "1    17    3           0 -0.965926 -0.258819  ...           NaN      0.851852   \n",
       "\n",
       "   occ_ema_slow  occ_momentum    occ_15    occ_30    occ_60  sta_mean_occ  \\\n",
       "0           NaN           NaN  0.666667  0.814815  0.703704      0.574086   \n",
       "1      0.851852           0.0  0.666667  0.777778  0.703704      0.574086   \n",
       "\n",
       "   sta_hdh_occ   occ_now  \n",
       "0     0.740741  0.851852  \n",
       "1     0.740741  0.925926  \n",
       "\n",
       "[2 rows x 33 columns]"
      ]
     },
     "execution_count": 14,
     "metadata": {},
     "output_type": "execute_result"
    }
   ],
   "source": [
    "# === 4) Split + encodings + occ_now ===\n",
    "# Split temporel Train/Test\n",
    "cut = feat[\"ts\"].quantile(SPLIT_TRAINTEST)\n",
    "train = feat[feat[\"ts\"] <= cut].copy()\n",
    "test  = feat[feat[\"ts\"] >  cut].copy()\n",
    "\n",
    "# Encodages station (sur TRAIN)\n",
    "sta_mean = (train.groupby(\"station_id\")[\"occ\"].mean().rename(\"sta_mean_occ\")).reset_index()\n",
    "sta_hdh  = (train.assign(hour=train[\"ts\"].dt.hour.astype(\"uint8\"),\n",
    "                         dow=train[\"ts\"].dt.dayofweek.astype(\"uint8\"))\n",
    "                 .groupby([\"station_id\",\"dow\",\"hour\"])[\"occ\"].median()\n",
    "                 .rename(\"sta_hdh_occ\")).reset_index()\n",
    "\n",
    "def add_station_encodings(frame):\n",
    "    out = frame.merge(sta_mean, on=\"station_id\", how=\"left\")\n",
    "    out = out.merge(sta_hdh, left_on=[\"station_id\",\"dow\",\"hour\"],\n",
    "                           right_on=[\"station_id\",\"dow\",\"hour\"], how=\"left\")\n",
    "    out[\"sta_hdh_occ\"] = out[\"sta_hdh_occ\"].fillna(out[\"sta_mean_occ\"])\n",
    "    return out\n",
    "\n",
    "train = add_station_encodings(train).sort_values([\"station_id\",\"ts\"]).reset_index(drop=True)\n",
    "test  = add_station_encodings(test ).sort_values([\"station_id\",\"ts\"]).reset_index(drop=True)\n",
    "\n",
    "# occ_now (ancre)\n",
    "train[\"occ_now\"] = train[\"occ\"].astype(\"float32\")\n",
    "test[\"occ_now\"]  = test[\"occ\"].astype(\"float32\")\n",
    "\n",
    "print(\"train/test:\", train.shape, test.shape)\n",
    "train.head(2)\n"
   ]
  },
  {
   "cell_type": "code",
   "execution_count": 15,
   "id": "0f5d6117",
   "metadata": {},
   "outputs": [
    {
     "name": "stderr",
     "output_type": "stream",
     "text": [
      "/var/folders/6r/y7n5k5ss483dvgr1svv3fq_80000gn/T/ipykernel_61798/3277451984.py:5: FutureWarning: The default of observed=False is deprecated and will be changed to True in a future version of pandas. Pass observed=False to retain current behavior or observed=True to adopt the future default and silence this warning.\n",
      "  train[f\"occ_delta_target_{h}\"] = (train.groupby(\"station_id\")[\"occ\"].shift(-sh) - train[\"occ\"]).astype(\"float32\")\n",
      "/var/folders/6r/y7n5k5ss483dvgr1svv3fq_80000gn/T/ipykernel_61798/3277451984.py:6: FutureWarning: The default of observed=False is deprecated and will be changed to True in a future version of pandas. Pass observed=False to retain current behavior or observed=True to adopt the future default and silence this warning.\n",
      "  test[f\"occ_delta_target_{h}\"]  = (test .groupby(\"station_id\")[\"occ\"].shift(-sh) - test [\"occ\"]).astype(\"float32\")\n",
      "/var/folders/6r/y7n5k5ss483dvgr1svv3fq_80000gn/T/ipykernel_61798/3277451984.py:5: FutureWarning: The default of observed=False is deprecated and will be changed to True in a future version of pandas. Pass observed=False to retain current behavior or observed=True to adopt the future default and silence this warning.\n",
      "  train[f\"occ_delta_target_{h}\"] = (train.groupby(\"station_id\")[\"occ\"].shift(-sh) - train[\"occ\"]).astype(\"float32\")\n",
      "/var/folders/6r/y7n5k5ss483dvgr1svv3fq_80000gn/T/ipykernel_61798/3277451984.py:6: FutureWarning: The default of observed=False is deprecated and will be changed to True in a future version of pandas. Pass observed=False to retain current behavior or observed=True to adopt the future default and silence this warning.\n",
      "  test[f\"occ_delta_target_{h}\"]  = (test .groupby(\"station_id\")[\"occ\"].shift(-sh) - test [\"occ\"]).astype(\"float32\")\n",
      "/var/folders/6r/y7n5k5ss483dvgr1svv3fq_80000gn/T/ipykernel_61798/3277451984.py:5: FutureWarning: The default of observed=False is deprecated and will be changed to True in a future version of pandas. Pass observed=False to retain current behavior or observed=True to adopt the future default and silence this warning.\n",
      "  train[f\"occ_delta_target_{h}\"] = (train.groupby(\"station_id\")[\"occ\"].shift(-sh) - train[\"occ\"]).astype(\"float32\")\n",
      "/var/folders/6r/y7n5k5ss483dvgr1svv3fq_80000gn/T/ipykernel_61798/3277451984.py:6: FutureWarning: The default of observed=False is deprecated and will be changed to True in a future version of pandas. Pass observed=False to retain current behavior or observed=True to adopt the future default and silence this warning.\n",
      "  test[f\"occ_delta_target_{h}\"]  = (test .groupby(\"station_id\")[\"occ\"].shift(-sh) - test [\"occ\"]).astype(\"float32\")\n"
     ]
    },
    {
     "name": "stdout",
     "output_type": "stream",
     "text": [
      "train_delta/test_delta: (2242791, 36) (973555, 36)\n"
     ]
    }
   ],
   "source": [
    "# === 5) Δ targets per split + dataset Δ ===\n",
    "# Cibles Δ définies séparément dans TRAIN/TEST (pas de fuite)\n",
    "for h in HORIZONS:\n",
    "    sh = h // FREQ_MIN\n",
    "    train[f\"occ_delta_target_{h}\"] = (train.groupby(\"station_id\")[\"occ\"].shift(-sh) - train[\"occ\"]).astype(\"float32\")\n",
    "    test[f\"occ_delta_target_{h}\"]  = (test .groupby(\"station_id\")[\"occ\"].shift(-sh) - test [\"occ\"]).astype(\"float32\")\n",
    "\n",
    "# Liste de features Δ (sans encodages station au départ)\n",
    "base_feats = [\n",
    "    \"dow\",\"is_weekend\",\"hour_sin\",\"hour_cos\",\"hour_sin2\",\"hour_cos2\",\n",
    "    \"occ_now\",\n",
    "    \"occ_lag_5\",\"occ_lag_10\",\"occ_lag_15\",\"occ_lag_30\",\"occ_lag_60\",\n",
    "    \"occ_roll_60\",\"occ_roll_120\",\"occ_roll_180\",\n",
    "    \"occ_delta_5\",\"occ_delta_15\",\"occ_delta_30\",\"occ_delta_60\",\n",
    "    # si tu as gardé les EMA : \"occ_ema_fast\",\"occ_ema_slow\",\"occ_momentum\",\n",
    "]\n",
    "feat_cols_delta = base_feats + [\"capacity\"]\n",
    "\n",
    "\n",
    "# Nettoyage\n",
    "need_train = feat_cols_delta + [f\"occ_delta_target_{h}\" for h in HORIZONS] + [f\"occ_{h}\" for h in HORIZONS]\n",
    "need_test  = feat_cols_delta + [f\"occ_delta_target_{h}\" for h in HORIZONS] + [f\"occ_{h}\" for h in HORIZONS]\n",
    "\n",
    "train_delta = train.dropna(subset=need_train).copy()\n",
    "test_delta  = test .dropna(subset=need_test ).copy()\n",
    "\n",
    "print(\"train_delta/test_delta:\", train_delta.shape, test_delta.shape)\n"
   ]
  },
  {
   "cell_type": "code",
   "execution_count": 16,
   "id": "fa4e1c28",
   "metadata": {},
   "outputs": [],
   "source": [
    "# === Δ LightGBM avec calibration gamma sur la validation ===\n",
    "# !pip install lightgbm -q\n",
    "import lightgbm as lgb\n",
    "import numpy as np\n",
    "from sklearn.metrics import mean_absolute_error\n",
    "\n",
    "def train_lgbm_delta_with_gamma(train_df, test_df, horizon, num_threads=2, gamma_grid=(0.5, 0.7, 0.9, 1.0)):\n",
    "    y_col = f\"occ_delta_target_{horizon}\"\n",
    "    tr = train_df.sort_values([\"station_id\",\"ts\"]).reset_index(drop=True)\n",
    "    te = test_df .sort_values([\"station_id\",\"ts\"]).reset_index(drop=True)\n",
    "\n",
    "    # Split temporel train/val\n",
    "    cut_tr = tr[\"ts\"].quantile(0.85)\n",
    "    tr_tr  = tr[tr[\"ts\"] <= cut_tr].copy()\n",
    "    tr_val = tr[tr[\"ts\"] >  cut_tr].copy()\n",
    "\n",
    "    Xtr, ytr = tr_tr[feat_cols_delta], tr_tr[y_col]\n",
    "    Xval, yval = tr_val[feat_cols_delta], tr_val[y_col]\n",
    "    Xte        = te[feat_cols_delta]\n",
    "\n",
    "    params = dict(\n",
    "        objective=\"regression_l1\",\n",
    "        metric=\"l1\",\n",
    "        learning_rate=0.08,\n",
    "        num_leaves=63,\n",
    "        max_depth=-1,\n",
    "        min_data_in_leaf=64,\n",
    "        feature_fraction=0.85,\n",
    "        bagging_fraction=0.8,\n",
    "        bagging_freq=1,\n",
    "        lambda_l1=0.0, lambda_l2=0.0,\n",
    "        seed=42, verbosity=-1, num_threads=num_threads\n",
    "    )\n",
    "\n",
    "    dtrain = lgb.Dataset(Xtr, label=ytr)\n",
    "    dval   = lgb.Dataset(Xval, label=yval, reference=dtrain)\n",
    "\n",
    "    model = lgb.train(\n",
    "        params, dtrain, num_boost_round=800,\n",
    "        valid_sets=[dtrain, dval], valid_names=[\"train\",\"val\"],\n",
    "        callbacks=[lgb.early_stopping(stopping_rounds=50)]\n",
    "    )\n",
    "\n",
    "    # --- Calibration gamma sur la validation (MAE en vélos) ---\n",
    "    delta_val = model.predict(Xval, num_iteration=model.best_iteration)\n",
    "    cap_val   = Xval[\"capacity\"].to_numpy()\n",
    "    occ_now_v = tr_val[\"occ_now\"].to_numpy()\n",
    "    y_true_v  = (tr_val[f\"occ_{horizon}\"] * cap_val).to_numpy()\n",
    "\n",
    "    best_g, best_mae = None, 1e9\n",
    "    for g in gamma_grid:\n",
    "        occ_hat_v = np.clip(occ_now_v + g*delta_val, 0, 1)\n",
    "        y_hat_v   = occ_hat_v * cap_val\n",
    "        mae_v     = mean_absolute_error(y_true_v, y_hat_v)\n",
    "        if mae_v < best_mae:\n",
    "            best_mae, best_g = mae_v, g\n",
    "\n",
    "    # --- Prédiction test avec gamma* ---\n",
    "    delta_te = model.predict(Xte, num_iteration=model.best_iteration)\n",
    "    cap_te   = Xte[\"capacity\"].to_numpy()\n",
    "    occ_now_t= te[\"occ_now\"].to_numpy()\n",
    "    y_true_t = (te[f\"occ_{horizon}\"] * cap_te).to_numpy()\n",
    "    occ_hat_t= np.clip(occ_now_t + best_g*delta_te, 0, 1)\n",
    "    y_hat_t  = occ_hat_t * cap_te\n",
    "    mae_t    = mean_absolute_error(y_true_t, y_hat_t)\n",
    "\n",
    "    return mae_t, model, int(model.best_iteration or 0), float(best_g)\n"
   ]
  },
  {
   "cell_type": "code",
   "execution_count": 17,
   "id": "c368178c",
   "metadata": {},
   "outputs": [
    {
     "name": "stdout",
     "output_type": "stream",
     "text": [
      "Training until validation scores don't improve for 50 rounds\n",
      "Early stopping, best iteration is:\n",
      "[477]\ttrain's l1: 0.0261078\tval's l1: 0.034214\n",
      "Training until validation scores don't improve for 50 rounds\n",
      "Early stopping, best iteration is:\n",
      "[288]\ttrain's l1: 0.0400235\tval's l1: 0.050609\n",
      "Training until validation scores don't improve for 50 rounds\n",
      "Did not meet early stopping. Best iteration is:\n",
      "[793]\ttrain's l1: 0.0586823\tval's l1: 0.0734025\n",
      "Best iters (Δ, gamma-tuned): {15: 477, 30: 288, 60: 793}\n",
      "Gammas: {15: 1.0, 30: 1.0, 60: 1.0}\n",
      "MAE LGBM (Δ->bikes, gamma): {15: 0.754, 30: 1.156, 60: 1.714}\n"
     ]
    }
   ],
   "source": [
    "mae_lgbm_delta, iters_delta, models_delta, gammas = {}, {}, {}, {}\n",
    "for h in HORIZONS:\n",
    "    mae, mdl, it, g = train_lgbm_delta_with_gamma(train_delta, test_delta, h, num_threads=2)\n",
    "    mae_lgbm_delta[h] = mae; iters_delta[h] = it; models_delta[h] = mdl; gammas[h] = g\n",
    "\n",
    "print(\"Best iters (Δ, gamma-tuned):\", iters_delta)\n",
    "print(\"Gammas:\", gammas)\n",
    "print(\"MAE LGBM (Δ->bikes, gamma):\", {h: round(v,3) for h,v in mae_lgbm_delta.items()})"
   ]
  },
  {
   "cell_type": "code",
   "execution_count": 18,
   "id": "86fe15cd",
   "metadata": {},
   "outputs": [
    {
     "name": "stdout",
     "output_type": "stream",
     "text": [
      "{'ts': Timestamp('2025-08-28 23:15:00+0000', tz='UTC'), 'station_id': '1002059045', 'bikes_available': 5.0, 'capacity': 27.0}  | y_true: 4.0  | y_hat: 5.0  | gamma: 1.0\n",
      "{'ts': Timestamp('2025-08-28 23:20:00+0000', tz='UTC'), 'station_id': '1002059045', 'bikes_available': 4.0, 'capacity': 27.0}  | y_true: 5.0  | y_hat: 4.0  | gamma: 1.0\n",
      "{'ts': Timestamp('2025-08-28 23:25:00+0000', tz='UTC'), 'station_id': '1002059045', 'bikes_available': 5.0, 'capacity': 27.0}  | y_true: 4.0  | y_hat: 5.0  | gamma: 1.0\n"
     ]
    }
   ],
   "source": [
    "h = 30\n",
    "te_dbg = test_delta.dropna(subset=feat_cols_delta+[f\"occ_{h}\", f\"occ_delta_target_{h}\"])\\\n",
    "                   .sort_values([\"station_id\",\"ts\"]).reset_index(drop=True)\n",
    "mdl = models_delta[h]\n",
    "delta_pred = mdl.predict(te_dbg[feat_cols_delta], num_iteration=mdl.best_iteration)\n",
    "g = gammas[h]\n",
    "occ_hat = np.clip(te_dbg[\"occ_now\"].to_numpy() + g*delta_pred, 0, 1)\n",
    "y_hat = occ_hat * te_dbg[\"capacity\"].to_numpy()\n",
    "y_true = te_dbg[f\"occ_{h}\"].to_numpy() * te_dbg[\"capacity\"].to_numpy()\n",
    "\n",
    "for i in range(3):\n",
    "    row = te_dbg.iloc[i][[\"ts\",\"station_id\",\"bikes_available\",\"capacity\"]].to_dict()\n",
    "    print(row, \" | y_true:\", round(float(y_true[i]),2), \" | y_hat:\", round(float(y_hat[i]),2), \" | gamma:\", g)\n"
   ]
  },
  {
   "cell_type": "code",
   "execution_count": 19,
   "id": "7debca09",
   "metadata": {},
   "outputs": [
    {
     "name": "stdout",
     "output_type": "stream",
     "text": [
      "Artifacts saved to: /Users/sako/Documents/PROJET DISPO VELIB/artifacts/v0_1\n"
     ]
    }
   ],
   "source": [
    "import json, pandas as pd, numpy as np\n",
    "from pathlib import Path\n",
    "\n",
    "ART = Path(\"artifacts/v0_1\")\n",
    "ART.mkdir(parents=True, exist_ok=True)\n",
    "\n",
    "# 1) Sauve les boosters LightGBM (un par horizon)\n",
    "import lightgbm as lgb\n",
    "for h, mdl in models_delta.items():\n",
    "    mdl.save_model(str((ART / f\"lgbm_delta_h{h}.txt\").resolve()))\n",
    "\n",
    "# 2) Liste des features (dans le même ordre qu'à l'entraînement)\n",
    "with open(ART / \"feat_cols_delta.json\", \"w\") as f:\n",
    "    json.dump(feat_cols_delta, f)\n",
    "\n",
    "# 3) Config d’entraînement\n",
    "config = {\n",
    "    \"version\": \"v0_1\",\n",
    "    \"freq_min\": FREQ_MIN,\n",
    "    \"horizons\": HORIZONS,\n",
    "    \"split_train_test\": float(SPLIT_TRAINTEST),\n",
    "    \"split_train_val\": float(SPLIT_TRAINVAL),\n",
    "    \"gammas\": gammas,           # {15:1.0, 30:1.0, 60:1.0} dans ton cas\n",
    "}\n",
    "with open(ART / \"config.json\", \"w\") as f:\n",
    "    json.dump(config, f, indent=2)\n",
    "\n",
    "# 4) Métriques finales\n",
    "pd.DataFrame({\n",
    "    \"horizon_min\": HORIZONS,\n",
    "    \"mae_naive\":   [mae_naive_bikes[h]  for h in HORIZONS],\n",
    "    \"mae_model\":   [mae_lgbm_delta[h]   for h in HORIZONS],\n",
    "    \"best_iter\":   [iters_delta[h]      for h in HORIZONS],\n",
    "    \"gamma\":       [gammas[h]           for h in HORIZONS],\n",
    "}).to_csv(ART / \"metrics.csv\", index=False)\n",
    "\n",
    "print(\"Artifacts saved to:\", ART.resolve())\n"
   ]
  },
  {
   "cell_type": "code",
   "execution_count": 20,
   "id": "4298d210",
   "metadata": {},
   "outputs": [],
   "source": [
    "import json, pandas as pd, numpy as np, lightgbm as lgb\n",
    "from pathlib import Path\n",
    "\n",
    "ART = Path(\"artifacts/v0_1\")\n",
    "feat_cols_delta = json.load(open(ART / \"feat_cols_delta.json\"))\n",
    "gammas = json.load(open(ART / \"config.json\"))[\"gammas\"]\n",
    "\n",
    "def load_model(h: int):\n",
    "    return lgb.Booster(model_file=str(ART / f\"lgbm_delta_h{h}.txt\"))\n",
    "\n",
    "def predict_batch(df_features: pd.DataFrame, h: int) -> np.ndarray:\n",
    "    booster = load_model(h)\n",
    "    X = df_features[feat_cols_delta]\n",
    "    delta = booster.predict(X, num_iteration=booster.best_iteration)\n",
    "    occ_hat = np.clip(df_features[\"occ_now\"].to_numpy() + gammas[str(h)]*delta, 0, 1)\n",
    "    return occ_hat * df_features[\"capacity\"].to_numpy()\n"
   ]
  }
 ],
 "metadata": {
  "kernelspec": {
   "display_name": "base",
   "language": "python",
   "name": "python3"
  },
  "language_info": {
   "codemirror_mode": {
    "name": "ipython",
    "version": 3
   },
   "file_extension": ".py",
   "mimetype": "text/x-python",
   "name": "python",
   "nbconvert_exporter": "python",
   "pygments_lexer": "ipython3",
   "version": "3.12.4"
  }
 },
 "nbformat": 4,
 "nbformat_minor": 5
}

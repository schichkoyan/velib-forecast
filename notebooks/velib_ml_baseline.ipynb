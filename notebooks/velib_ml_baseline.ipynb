{
 "cells": [
  {
   "cell_type": "code",
   "execution_count": null,
   "id": "f2542731",
   "metadata": {},
   "outputs": [
    {
     "name": "stdout",
     "output_type": "stream",
     "text": [
      "<class 'pandas.core.frame.DataFrame'>\n",
      "RangeIndex: 3305428 entries, 0 to 3305427\n",
      "Data columns (total 4 columns):\n",
      " #   Column           Dtype              \n",
      "---  ------           -----              \n",
      " 0   ts               datetime64[ns, UTC]\n",
      " 1   station_id       category           \n",
      " 2   bikes_available  float32            \n",
      " 3   capacity         float32            \n",
      "dtypes: category(1), datetime64[ns, UTC](1), float32(2)\n",
      "memory usage: 56.9 MB\n"
     ]
    },
    {
     "data": {
      "application/vnd.microsoft.datawrangler.viewer.v0+json": {
       "columns": [
        {
         "name": "index",
         "rawType": "int64",
         "type": "integer"
        },
        {
         "name": "ts",
         "rawType": "datetime64[ns, UTC]",
         "type": "unknown"
        },
        {
         "name": "station_id",
         "rawType": "category",
         "type": "unknown"
        },
        {
         "name": "bikes_available",
         "rawType": "float32",
         "type": "float"
        },
        {
         "name": "capacity",
         "rawType": "float32",
         "type": "float"
        }
       ],
       "ref": "f1caad8d-f635-4f09-9e8f-0978ea4be53b",
       "rows": [
        [
         "0",
         "2025-08-21 17:45:00+00:00",
         "1002059045",
         "23.0",
         "27.0"
        ],
        [
         "1",
         "2025-08-21 17:50:00+00:00",
         "1002059045",
         "25.0",
         "27.0"
        ],
        [
         "2",
         "2025-08-21 17:55:00+00:00",
         "1002059045",
         "23.0",
         "27.0"
        ]
       ],
       "shape": {
        "columns": 4,
        "rows": 3
       }
      },
      "text/html": [
       "<div>\n",
       "<style scoped>\n",
       "    .dataframe tbody tr th:only-of-type {\n",
       "        vertical-align: middle;\n",
       "    }\n",
       "\n",
       "    .dataframe tbody tr th {\n",
       "        vertical-align: top;\n",
       "    }\n",
       "\n",
       "    .dataframe thead th {\n",
       "        text-align: right;\n",
       "    }\n",
       "</style>\n",
       "<table border=\"1\" class=\"dataframe\">\n",
       "  <thead>\n",
       "    <tr style=\"text-align: right;\">\n",
       "      <th></th>\n",
       "      <th>ts</th>\n",
       "      <th>station_id</th>\n",
       "      <th>bikes_available</th>\n",
       "      <th>capacity</th>\n",
       "    </tr>\n",
       "  </thead>\n",
       "  <tbody>\n",
       "    <tr>\n",
       "      <th>0</th>\n",
       "      <td>2025-08-21 17:45:00+00:00</td>\n",
       "      <td>1002059045</td>\n",
       "      <td>23.0</td>\n",
       "      <td>27.0</td>\n",
       "    </tr>\n",
       "    <tr>\n",
       "      <th>1</th>\n",
       "      <td>2025-08-21 17:50:00+00:00</td>\n",
       "      <td>1002059045</td>\n",
       "      <td>25.0</td>\n",
       "      <td>27.0</td>\n",
       "    </tr>\n",
       "    <tr>\n",
       "      <th>2</th>\n",
       "      <td>2025-08-21 17:55:00+00:00</td>\n",
       "      <td>1002059045</td>\n",
       "      <td>23.0</td>\n",
       "      <td>27.0</td>\n",
       "    </tr>\n",
       "  </tbody>\n",
       "</table>\n",
       "</div>"
      ],
      "text/plain": [
       "                         ts  station_id  bikes_available  capacity\n",
       "0 2025-08-21 17:45:00+00:00  1002059045             23.0      27.0\n",
       "1 2025-08-21 17:50:00+00:00  1002059045             25.0      27.0\n",
       "2 2025-08-21 17:55:00+00:00  1002059045             23.0      27.0"
      ]
     },
     "execution_count": 10,
     "metadata": {},
     "output_type": "execute_result"
    }
   ],
   "source": [
    "import pandas as pd\n",
    "import numpy as np\n",
    "from pathlib import Path\n",
    "\n",
    "DATA_CSV = Path(\"data/raw/velib_timeseries_5min.csv\")\n",
    "FREQ_MIN = 5\n",
    "HORIZONS = [15, 30, 60]\n",
    "\n",
    "# --- Mode DEV : échantillonner des stations \"actives\" pour itérer vite\n",
    "DEV_MODE = False        # passe à True pour tester rapidement\n",
    "DEV_N_STATIONS = 200    # nb de stations à garder en DEV\n",
    "\n",
    "usecols = [\"ts\",\"station_id\",\"bikes_available\",\"capacity\"]  # suffisant pour ce notebook\n",
    "dtype = {\n",
    "    \"station_id\": \"category\",\n",
    "    \"bikes_available\": \"float32\",   # int16 possible, mais on reste large\n",
    "    \"capacity\": \"float32\",\n",
    "}\n",
    "df = pd.read_csv(DATA_CSV, usecols=usecols, dtype=dtype, parse_dates=[\"ts\"])\n",
    "df = df.sort_values([\"station_id\",\"ts\"]).reset_index(drop=True)\n",
    "\n",
    "if DEV_MODE:\n",
    "    var_by_sta = df.groupby(\"station_id\")[\"bikes_available\"].var().sort_values(ascending=False)\n",
    "    keep = var_by_sta.head(DEV_N_STATIONS).index\n",
    "    df = df[df[\"station_id\"].isin(keep)].copy()\n",
    "\n",
    "df.info(memory_usage=\"deep\")\n",
    "df.head(3)"
   ]
  },
  {
   "cell_type": "code",
   "execution_count": 11,
   "id": "bfcb5873",
   "metadata": {},
   "outputs": [
    {
     "data": {
      "text/plain": [
       "{15: 5.903214931488037, 30: 5.915978908538818, 60: 5.96649694442749}"
      ]
     },
     "execution_count": 11,
     "metadata": {},
     "output_type": "execute_result"
    }
   ],
   "source": [
    "from sklearn.metrics import mean_absolute_error\n",
    "\n",
    "tmp = df.copy()\n",
    "tmp[\"hour\"] = tmp[\"ts\"].dt.hour\n",
    "tmp[\"dow\"]  = tmp[\"ts\"].dt.dayofweek\n",
    "\n",
    "# cibles multi-horizon\n",
    "for h in HORIZONS:\n",
    "    tmp[f\"y_{h}\"] = tmp.groupby(\"station_id\")[\"bikes_available\"].shift(-(h//FREQ_MIN))\n",
    "\n",
    "# split temporel 70/30 (respecte la chronologie)\n",
    "cutoff = tmp[\"ts\"].quantile(0.7)\n",
    "train_df = tmp[tmp[\"ts\"] <= cutoff]\n",
    "test_df  = tmp[tmp[\"ts\"] >  cutoff]\n",
    "\n",
    "# médiane historique par (station, jour, heure) calculée sur train\n",
    "med = (train_df\n",
    "       .groupby([\"station_id\",\"dow\",\"hour\"])[\"bikes_available\"]\n",
    "       .median()\n",
    "       .rename(\"pred_seasonal\")\n",
    "       .reset_index())\n",
    "\n",
    "test_seasonal = test_df.merge(med, on=[\"station_id\",\"dow\",\"hour\"], how=\"left\")\n",
    "\n",
    "seasonal_mae = {}\n",
    "for h in HORIZONS:\n",
    "    y = test_seasonal[f\"y_{h}\"]\n",
    "    p = test_seasonal[\"pred_seasonal\"]\n",
    "    ok = y.notna() & p.notna()\n",
    "    seasonal_mae[h] = float(mean_absolute_error(y[ok], p[ok]))\n",
    "seasonal_mae"
   ]
  },
  {
   "cell_type": "code",
   "execution_count": 12,
   "id": "63ad9701",
   "metadata": {},
   "outputs": [
    {
     "data": {
      "application/vnd.microsoft.datawrangler.viewer.v0+json": {
       "columns": [
        {
         "name": "index",
         "rawType": "int64",
         "type": "integer"
        },
        {
         "name": "ts",
         "rawType": "datetime64[ns, UTC]",
         "type": "unknown"
        },
        {
         "name": "station_id",
         "rawType": "category",
         "type": "unknown"
        },
        {
         "name": "bikes_available",
         "rawType": "float32",
         "type": "float"
        },
        {
         "name": "capacity",
         "rawType": "float32",
         "type": "float"
        },
        {
         "name": "hour",
         "rawType": "uint8",
         "type": "integer"
        },
        {
         "name": "dow",
         "rawType": "uint8",
         "type": "integer"
        },
        {
         "name": "hour_sin",
         "rawType": "float32",
         "type": "float"
        },
        {
         "name": "hour_cos",
         "rawType": "float32",
         "type": "float"
        },
        {
         "name": "lag_5",
         "rawType": "float32",
         "type": "float"
        },
        {
         "name": "lag_10",
         "rawType": "float32",
         "type": "float"
        },
        {
         "name": "lag_15",
         "rawType": "float32",
         "type": "float"
        },
        {
         "name": "lag_30",
         "rawType": "float32",
         "type": "float"
        },
        {
         "name": "lag_60",
         "rawType": "float32",
         "type": "float"
        },
        {
         "name": "roll_mean_60",
         "rawType": "float32",
         "type": "float"
        },
        {
         "name": "delta_5",
         "rawType": "float32",
         "type": "float"
        },
        {
         "name": "y_15",
         "rawType": "float32",
         "type": "float"
        },
        {
         "name": "y_30",
         "rawType": "float32",
         "type": "float"
        },
        {
         "name": "y_60",
         "rawType": "float32",
         "type": "float"
        }
       ],
       "ref": "569826fd-5366-48ae-9aa6-527c28d130bc",
       "rows": [
        [
         "0",
         "2025-08-21 18:45:00+00:00",
         "1002059045",
         "19.0",
         "27.0",
         "18",
         "3",
         "-1.0",
         "-1.8369701e-16",
         "17.0",
         "19.0",
         "23.0",
         "22.0",
         "23.0",
         "20.833334",
         "2.0",
         "19.0",
         "18.0",
         "21.0"
        ],
        [
         "1",
         "2025-08-21 18:50:00+00:00",
         "1002059045",
         "19.0",
         "27.0",
         "18",
         "3",
         "-1.0",
         "-1.8369701e-16",
         "19.0",
         "17.0",
         "19.0",
         "21.0",
         "25.0",
         "20.5",
         "0.0",
         "18.0",
         "16.0",
         "20.0"
        ],
        [
         "2",
         "2025-08-21 18:55:00+00:00",
         "1002059045",
         "19.0",
         "27.0",
         "18",
         "3",
         "-1.0",
         "-1.8369701e-16",
         "19.0",
         "19.0",
         "17.0",
         "21.0",
         "23.0",
         "20.0",
         "0.0",
         "18.0",
         "18.0",
         "21.0"
        ]
       ],
       "shape": {
        "columns": 18,
        "rows": 3
       }
      },
      "text/html": [
       "<div>\n",
       "<style scoped>\n",
       "    .dataframe tbody tr th:only-of-type {\n",
       "        vertical-align: middle;\n",
       "    }\n",
       "\n",
       "    .dataframe tbody tr th {\n",
       "        vertical-align: top;\n",
       "    }\n",
       "\n",
       "    .dataframe thead th {\n",
       "        text-align: right;\n",
       "    }\n",
       "</style>\n",
       "<table border=\"1\" class=\"dataframe\">\n",
       "  <thead>\n",
       "    <tr style=\"text-align: right;\">\n",
       "      <th></th>\n",
       "      <th>ts</th>\n",
       "      <th>station_id</th>\n",
       "      <th>bikes_available</th>\n",
       "      <th>capacity</th>\n",
       "      <th>hour</th>\n",
       "      <th>dow</th>\n",
       "      <th>hour_sin</th>\n",
       "      <th>hour_cos</th>\n",
       "      <th>lag_5</th>\n",
       "      <th>lag_10</th>\n",
       "      <th>lag_15</th>\n",
       "      <th>lag_30</th>\n",
       "      <th>lag_60</th>\n",
       "      <th>roll_mean_60</th>\n",
       "      <th>delta_5</th>\n",
       "      <th>y_15</th>\n",
       "      <th>y_30</th>\n",
       "      <th>y_60</th>\n",
       "    </tr>\n",
       "  </thead>\n",
       "  <tbody>\n",
       "    <tr>\n",
       "      <th>0</th>\n",
       "      <td>2025-08-21 18:45:00+00:00</td>\n",
       "      <td>1002059045</td>\n",
       "      <td>19.0</td>\n",
       "      <td>27.0</td>\n",
       "      <td>18</td>\n",
       "      <td>3</td>\n",
       "      <td>-1.0</td>\n",
       "      <td>-1.836970e-16</td>\n",
       "      <td>17.0</td>\n",
       "      <td>19.0</td>\n",
       "      <td>23.0</td>\n",
       "      <td>22.0</td>\n",
       "      <td>23.0</td>\n",
       "      <td>20.833334</td>\n",
       "      <td>2.0</td>\n",
       "      <td>19.0</td>\n",
       "      <td>18.0</td>\n",
       "      <td>21.0</td>\n",
       "    </tr>\n",
       "    <tr>\n",
       "      <th>1</th>\n",
       "      <td>2025-08-21 18:50:00+00:00</td>\n",
       "      <td>1002059045</td>\n",
       "      <td>19.0</td>\n",
       "      <td>27.0</td>\n",
       "      <td>18</td>\n",
       "      <td>3</td>\n",
       "      <td>-1.0</td>\n",
       "      <td>-1.836970e-16</td>\n",
       "      <td>19.0</td>\n",
       "      <td>17.0</td>\n",
       "      <td>19.0</td>\n",
       "      <td>21.0</td>\n",
       "      <td>25.0</td>\n",
       "      <td>20.500000</td>\n",
       "      <td>0.0</td>\n",
       "      <td>18.0</td>\n",
       "      <td>16.0</td>\n",
       "      <td>20.0</td>\n",
       "    </tr>\n",
       "    <tr>\n",
       "      <th>2</th>\n",
       "      <td>2025-08-21 18:55:00+00:00</td>\n",
       "      <td>1002059045</td>\n",
       "      <td>19.0</td>\n",
       "      <td>27.0</td>\n",
       "      <td>18</td>\n",
       "      <td>3</td>\n",
       "      <td>-1.0</td>\n",
       "      <td>-1.836970e-16</td>\n",
       "      <td>19.0</td>\n",
       "      <td>19.0</td>\n",
       "      <td>17.0</td>\n",
       "      <td>21.0</td>\n",
       "      <td>23.0</td>\n",
       "      <td>20.000000</td>\n",
       "      <td>0.0</td>\n",
       "      <td>18.0</td>\n",
       "      <td>18.0</td>\n",
       "      <td>21.0</td>\n",
       "    </tr>\n",
       "  </tbody>\n",
       "</table>\n",
       "</div>"
      ],
      "text/plain": [
       "                         ts  station_id  bikes_available  capacity  hour  dow  \\\n",
       "0 2025-08-21 18:45:00+00:00  1002059045             19.0      27.0    18    3   \n",
       "1 2025-08-21 18:50:00+00:00  1002059045             19.0      27.0    18    3   \n",
       "2 2025-08-21 18:55:00+00:00  1002059045             19.0      27.0    18    3   \n",
       "\n",
       "   hour_sin      hour_cos  lag_5  lag_10  lag_15  lag_30  lag_60  \\\n",
       "0      -1.0 -1.836970e-16   17.0    19.0    23.0    22.0    23.0   \n",
       "1      -1.0 -1.836970e-16   19.0    17.0    19.0    21.0    25.0   \n",
       "2      -1.0 -1.836970e-16   19.0    19.0    17.0    21.0    23.0   \n",
       "\n",
       "   roll_mean_60  delta_5  y_15  y_30  y_60  \n",
       "0     20.833334      2.0  19.0  18.0  21.0  \n",
       "1     20.500000      0.0  18.0  16.0  20.0  \n",
       "2     20.000000      0.0  18.0  18.0  21.0  "
      ]
     },
     "execution_count": 12,
     "metadata": {},
     "output_type": "execute_result"
    }
   ],
   "source": [
    "def make_features_pandas(data, horizons=HORIZONS, freq_min=FREQ_MIN):\n",
    "    out = data.copy()\n",
    "    out[\"hour\"] = out[\"ts\"].dt.hour.astype(\"uint8\")\n",
    "    out[\"dow\"]  = out[\"ts\"].dt.dayofweek.astype(\"uint8\")\n",
    "    # encodage cyclique\n",
    "    out[\"hour_sin\"] = np.sin(2*np.pi*out[\"hour\"]/24).astype(\"float32\")\n",
    "    out[\"hour_cos\"] = np.cos(2*np.pi*out[\"hour\"]/24).astype(\"float32\")\n",
    "\n",
    "    # lags : 5, 10, 15, 30, 60 min\n",
    "    for k in [1,2,3,6,12]:\n",
    "        out[f\"lag_{k*freq_min}\"] = out.groupby(\"station_id\")[\"bikes_available\"].shift(k).astype(\"float32\")\n",
    "\n",
    "    # rolling 1h sur t-1 (évite fuite)\n",
    "    out[\"roll_mean_60\"] = (out.groupby(\"station_id\")[\"bikes_available\"]\n",
    "                             .shift(1).rolling(12).mean()\n",
    "                             .reset_index(level=0, drop=True).astype(\"float32\"))\n",
    "\n",
    "    # delta court terme\n",
    "    out[\"delta_5\"] = (out[\"bikes_available\"] - out.groupby(\"station_id\")[\"bikes_available\"].shift(1)).astype(\"float32\")\n",
    "\n",
    "    # targets\n",
    "    for h in horizons:\n",
    "        out[f\"y_{h}\"] = out.groupby(\"station_id\")[\"bikes_available\"].shift(-(h//freq_min)).astype(\"float32\")\n",
    "\n",
    "    out = out.dropna().reset_index(drop=True)\n",
    "    return out\n",
    "\n",
    "df_feat = make_features_pandas(df)\n",
    "df_feat.head(3)"
   ]
  },
  {
   "cell_type": "code",
   "execution_count": 13,
   "id": "a884e063",
   "metadata": {},
   "outputs": [
    {
     "data": {
      "text/plain": [
       "((2290105, 11), (980091, 11))"
      ]
     },
     "execution_count": 13,
     "metadata": {},
     "output_type": "execute_result"
    }
   ],
   "source": [
    "X_cols = [\n",
    "    \"hour_sin\",\"hour_cos\",\"dow\",\"capacity\",\"delta_5\",\"roll_mean_60\",\n",
    "    \"lag_5\",\"lag_10\",\"lag_15\",\"lag_30\",\"lag_60\",\n",
    "]\n",
    "y_cols = [f\"y_{h}\" for h in HORIZONS]\n",
    "\n",
    "cut = df_feat[\"ts\"].quantile(0.7)\n",
    "train = df_feat[df_feat[\"ts\"] <= cut]\n",
    "test  = df_feat[df_feat[\"ts\"] >  cut]\n",
    "\n",
    "X_train, y_train = train[X_cols].astype(\"float32\"), train[y_cols].astype(\"float32\")\n",
    "X_test,  y_test  = test[X_cols].astype(\"float32\"),  test[y_cols].astype(\"float32\")\n",
    "\n",
    "X_train.shape, X_test.shape"
   ]
  },
  {
   "cell_type": "code",
   "execution_count": 14,
   "id": "8d3d1681",
   "metadata": {},
   "outputs": [
    {
     "data": {
      "text/plain": [
       "{'Ridge': {15: 0.8099028468132019,\n",
       "  30: 1.2351136207580566,\n",
       "  60: 1.8224033117294312},\n",
       " 'HGBR': {15: 0.8053530677578495,\n",
       "  30: 1.212714058145366,\n",
       "  60: 1.7675516458203147}}"
      ]
     },
     "execution_count": 14,
     "metadata": {},
     "output_type": "execute_result"
    }
   ],
   "source": [
    "from sklearn.linear_model import Ridge\n",
    "from sklearn.ensemble import HistGradientBoostingRegressor\n",
    "from sklearn.multioutput import MultiOutputRegressor\n",
    "from sklearn.metrics import mean_absolute_error\n",
    "\n",
    "models = {\n",
    "    \"Ridge\": MultiOutputRegressor(Ridge(alpha=1.0, random_state=42)),\n",
    "    \"HGBR\": MultiOutputRegressor(HistGradientBoostingRegressor(\n",
    "        max_depth=6, learning_rate=0.08, max_iter=400, random_state=42))\n",
    "}\n",
    "\n",
    "scores = {}\n",
    "for name, m in models.items():\n",
    "    m.fit(X_train, y_train)\n",
    "    pred = m.predict(X_test)\n",
    "    scores[name] = {h: float(mean_absolute_error(y_test.iloc[:, i], pred[:, i]))\n",
    "                    for i, h in enumerate(HORIZONS)}\n",
    "scores"
   ]
  },
  {
   "cell_type": "code",
   "execution_count": 15,
   "id": "10d5e66c",
   "metadata": {},
   "outputs": [
    {
     "data": {
      "application/vnd.microsoft.datawrangler.viewer.v0+json": {
       "columns": [
        {
         "name": "index",
         "rawType": "int64",
         "type": "integer"
        },
        {
         "name": "Horizon_min",
         "rawType": "int64",
         "type": "integer"
        },
        {
         "name": "MAE_Naive",
         "rawType": "float64",
         "type": "float"
        },
        {
         "name": "MAE_Seasonal",
         "rawType": "float64",
         "type": "float"
        },
        {
         "name": "MAE_Ridge",
         "rawType": "float64",
         "type": "float"
        },
        {
         "name": "MAE_HGBR",
         "rawType": "float64",
         "type": "float"
        }
       ],
       "ref": "8b83172c-5265-48de-b0b6-a702d4d66bc3",
       "rows": [
        [
         "0",
         "15",
         "0.7546166777610779",
         "5.903214931488037",
         "0.8099028468132019",
         "0.8053530677578495"
        ],
        [
         "1",
         "30",
         "1.1609625816345215",
         "5.915978908538818",
         "1.2351136207580566",
         "1.212714058145366"
        ],
        [
         "2",
         "60",
         "1.7375284433364868",
         "5.96649694442749",
         "1.8224033117294312",
         "1.7675516458203147"
        ]
       ],
       "shape": {
        "columns": 5,
        "rows": 3
       }
      },
      "text/html": [
       "<div>\n",
       "<style scoped>\n",
       "    .dataframe tbody tr th:only-of-type {\n",
       "        vertical-align: middle;\n",
       "    }\n",
       "\n",
       "    .dataframe tbody tr th {\n",
       "        vertical-align: top;\n",
       "    }\n",
       "\n",
       "    .dataframe thead th {\n",
       "        text-align: right;\n",
       "    }\n",
       "</style>\n",
       "<table border=\"1\" class=\"dataframe\">\n",
       "  <thead>\n",
       "    <tr style=\"text-align: right;\">\n",
       "      <th></th>\n",
       "      <th>Horizon_min</th>\n",
       "      <th>MAE_Naive</th>\n",
       "      <th>MAE_Seasonal</th>\n",
       "      <th>MAE_Ridge</th>\n",
       "      <th>MAE_HGBR</th>\n",
       "    </tr>\n",
       "  </thead>\n",
       "  <tbody>\n",
       "    <tr>\n",
       "      <th>0</th>\n",
       "      <td>15</td>\n",
       "      <td>0.754617</td>\n",
       "      <td>5.903215</td>\n",
       "      <td>0.809903</td>\n",
       "      <td>0.805353</td>\n",
       "    </tr>\n",
       "    <tr>\n",
       "      <th>1</th>\n",
       "      <td>30</td>\n",
       "      <td>1.160963</td>\n",
       "      <td>5.915979</td>\n",
       "      <td>1.235114</td>\n",
       "      <td>1.212714</td>\n",
       "    </tr>\n",
       "    <tr>\n",
       "      <th>2</th>\n",
       "      <td>60</td>\n",
       "      <td>1.737528</td>\n",
       "      <td>5.966497</td>\n",
       "      <td>1.822403</td>\n",
       "      <td>1.767552</td>\n",
       "    </tr>\n",
       "  </tbody>\n",
       "</table>\n",
       "</div>"
      ],
      "text/plain": [
       "   Horizon_min  MAE_Naive  MAE_Seasonal  MAE_Ridge  MAE_HGBR\n",
       "0           15   0.754617      5.903215   0.809903  0.805353\n",
       "1           30   1.160963      5.915979   1.235114  1.212714\n",
       "2           60   1.737528      5.966497   1.822403  1.767552"
      ]
     },
     "execution_count": 15,
     "metadata": {},
     "output_type": "execute_result"
    }
   ],
   "source": [
    "# Naïve : prédire \"valeur courante\" pour toutes les cibles\n",
    "# On récupère la valeur à t dans le même jeu 'test'\n",
    "naive_mae = {}\n",
    "# on a encore 'bikes_available' dans df_feat ; réaligne sur le même 'test'\n",
    "test_view = test[[\"bikes_available\"] + y_cols].copy()\n",
    "for i, h in enumerate(HORIZONS):\n",
    "    y = test_view[y_cols[i]].astype(\"float32\")\n",
    "    p = test_view[\"bikes_available\"].astype(\"float32\")\n",
    "    ok = y.notna() & p.notna()\n",
    "    naive_mae[h] = float(mean_absolute_error(y[ok], p[ok]))\n",
    "\n",
    "# Tableau comparatif\n",
    "comp = pd.DataFrame({\n",
    "    \"Horizon_min\": HORIZONS,\n",
    "    \"MAE_Naive\":   [naive_mae[h] for h in HORIZONS],\n",
    "    \"MAE_Seasonal\":[seasonal_mae[h] for h in HORIZONS],\n",
    "    \"MAE_Ridge\":   [scores[\"Ridge\"][h] for h in HORIZONS],\n",
    "    \"MAE_HGBR\":    [scores[\"HGBR\"][h] for h in HORIZONS],\n",
    "})\n",
    "comp"
   ]
  },
  {
   "cell_type": "code",
   "execution_count": 16,
   "id": "3f2022fd",
   "metadata": {},
   "outputs": [
    {
     "name": "stdout",
     "output_type": "stream",
     "text": [
      " Horizon_min  MAE_Naive  MAE_Seasonal  MAE_Ridge  MAE_HGBR\n",
      "          15      0.755         5.903      0.810     0.805\n",
      "          30      1.161         5.916      1.235     1.213\n",
      "          60      1.738         5.966      1.822     1.768\n"
     ]
    }
   ],
   "source": [
    "print(comp.to_string(index=False, float_format=lambda x: f\"{x:.3f}\"))"
   ]
  }
 ],
 "metadata": {
  "kernelspec": {
   "display_name": "base",
   "language": "python",
   "name": "python3"
  },
  "language_info": {
   "codemirror_mode": {
    "name": "ipython",
    "version": 3
   },
   "file_extension": ".py",
   "mimetype": "text/x-python",
   "name": "python",
   "nbconvert_exporter": "python",
   "pygments_lexer": "ipython3",
   "version": "3.8.8"
  }
 },
 "nbformat": 4,
 "nbformat_minor": 5
}

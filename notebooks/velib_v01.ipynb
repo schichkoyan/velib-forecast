{
 "cells": [
  {
   "cell_type": "code",
   "execution_count": 3,
   "id": "b389b89a",
   "metadata": {},
   "outputs": [],
   "source": [
    "from velib_ml.data import load_timeseries\n",
    "...\n"
   ]
  },
  {
   "cell_type": "code",
   "execution_count": 14,
   "id": "7977e3ea",
   "metadata": {},
   "outputs": [
    {
     "name": "stderr",
     "output_type": "stream",
     "text": [
      "/Users/sako/Documents/PROJET DISPO VELIB/src/velib_ml/data.py:8: FutureWarning: The default of observed=False is deprecated and will be changed to True in a future version of pandas. Pass observed=False to retain current behavior or observed=True to adopt the future default and silence this warning.\n",
      "  df[\"capacity\"] = (df.groupby(\"station_id\")[\"capacity\"]\n",
      "/Users/sako/Documents/PROJET DISPO VELIB/src/velib_ml/features.py:14: FutureWarning: The default of observed=False is deprecated and will be changed to True in a future version of pandas. Pass observed=False to retain current behavior or observed=True to adopt the future default and silence this warning.\n",
      "  def shift(col,k): return feat.groupby(\"station_id\")[col].shift(k)\n",
      "/Users/sako/Documents/PROJET DISPO VELIB/src/velib_ml/features.py:14: FutureWarning: The default of observed=False is deprecated and will be changed to True in a future version of pandas. Pass observed=False to retain current behavior or observed=True to adopt the future default and silence this warning.\n",
      "  def shift(col,k): return feat.groupby(\"station_id\")[col].shift(k)\n",
      "/Users/sako/Documents/PROJET DISPO VELIB/src/velib_ml/features.py:14: FutureWarning: The default of observed=False is deprecated and will be changed to True in a future version of pandas. Pass observed=False to retain current behavior or observed=True to adopt the future default and silence this warning.\n",
      "  def shift(col,k): return feat.groupby(\"station_id\")[col].shift(k)\n",
      "/Users/sako/Documents/PROJET DISPO VELIB/src/velib_ml/features.py:14: FutureWarning: The default of observed=False is deprecated and will be changed to True in a future version of pandas. Pass observed=False to retain current behavior or observed=True to adopt the future default and silence this warning.\n",
      "  def shift(col,k): return feat.groupby(\"station_id\")[col].shift(k)\n",
      "/Users/sako/Documents/PROJET DISPO VELIB/src/velib_ml/features.py:14: FutureWarning: The default of observed=False is deprecated and will be changed to True in a future version of pandas. Pass observed=False to retain current behavior or observed=True to adopt the future default and silence this warning.\n",
      "  def shift(col,k): return feat.groupby(\"station_id\")[col].shift(k)\n",
      "/Users/sako/Documents/PROJET DISPO VELIB/src/velib_ml/features.py:14: FutureWarning: The default of observed=False is deprecated and will be changed to True in a future version of pandas. Pass observed=False to retain current behavior or observed=True to adopt the future default and silence this warning.\n",
      "  def shift(col,k): return feat.groupby(\"station_id\")[col].shift(k)\n",
      "/Users/sako/Documents/PROJET DISPO VELIB/src/velib_ml/features.py:14: FutureWarning: The default of observed=False is deprecated and will be changed to True in a future version of pandas. Pass observed=False to retain current behavior or observed=True to adopt the future default and silence this warning.\n",
      "  def shift(col,k): return feat.groupby(\"station_id\")[col].shift(k)\n",
      "/Users/sako/Documents/PROJET DISPO VELIB/src/velib_ml/features.py:14: FutureWarning: The default of observed=False is deprecated and will be changed to True in a future version of pandas. Pass observed=False to retain current behavior or observed=True to adopt the future default and silence this warning.\n",
      "  def shift(col,k): return feat.groupby(\"station_id\")[col].shift(k)\n",
      "/Users/sako/Documents/PROJET DISPO VELIB/src/velib_ml/features.py:14: FutureWarning: The default of observed=False is deprecated and will be changed to True in a future version of pandas. Pass observed=False to retain current behavior or observed=True to adopt the future default and silence this warning.\n",
      "  def shift(col,k): return feat.groupby(\"station_id\")[col].shift(k)\n",
      "/Users/sako/Documents/PROJET DISPO VELIB/src/velib_ml/features.py:14: FutureWarning: The default of observed=False is deprecated and will be changed to True in a future version of pandas. Pass observed=False to retain current behavior or observed=True to adopt the future default and silence this warning.\n",
      "  def shift(col,k): return feat.groupby(\"station_id\")[col].shift(k)\n",
      "/Users/sako/Documents/PROJET DISPO VELIB/src/velib_ml/features.py:14: FutureWarning: The default of observed=False is deprecated and will be changed to True in a future version of pandas. Pass observed=False to retain current behavior or observed=True to adopt the future default and silence this warning.\n",
      "  def shift(col,k): return feat.groupby(\"station_id\")[col].shift(k)\n",
      "/Users/sako/Documents/PROJET DISPO VELIB/src/velib_ml/features.py:14: FutureWarning: The default of observed=False is deprecated and will be changed to True in a future version of pandas. Pass observed=False to retain current behavior or observed=True to adopt the future default and silence this warning.\n",
      "  def shift(col,k): return feat.groupby(\"station_id\")[col].shift(k)\n",
      "/Users/sako/Documents/PROJET DISPO VELIB/src/velib_ml/features.py:14: FutureWarning: The default of observed=False is deprecated and will be changed to True in a future version of pandas. Pass observed=False to retain current behavior or observed=True to adopt the future default and silence this warning.\n",
      "  def shift(col,k): return feat.groupby(\"station_id\")[col].shift(k)\n",
      "/Users/sako/Documents/PROJET DISPO VELIB/src/velib_ml/features.py:14: FutureWarning: The default of observed=False is deprecated and will be changed to True in a future version of pandas. Pass observed=False to retain current behavior or observed=True to adopt the future default and silence this warning.\n",
      "  def shift(col,k): return feat.groupby(\"station_id\")[col].shift(k)\n",
      "/Users/sako/Documents/PROJET DISPO VELIB/src/velib_ml/features.py:41: FutureWarning: The default of observed=False is deprecated and will be changed to True in a future version of pandas. Pass observed=False to retain current behavior or observed=True to adopt the future default and silence this warning.\n",
      "  feat[f\"occ_{h}\"] = feat.groupby(\"station_id\")[\"occ\"].shift(-sh).astype(\"float32\")\n",
      "/Users/sako/Documents/PROJET DISPO VELIB/src/velib_ml/features.py:41: FutureWarning: The default of observed=False is deprecated and will be changed to True in a future version of pandas. Pass observed=False to retain current behavior or observed=True to adopt the future default and silence this warning.\n",
      "  feat[f\"occ_{h}\"] = feat.groupby(\"station_id\")[\"occ\"].shift(-sh).astype(\"float32\")\n",
      "/Users/sako/Documents/PROJET DISPO VELIB/src/velib_ml/features.py:41: FutureWarning: The default of observed=False is deprecated and will be changed to True in a future version of pandas. Pass observed=False to retain current behavior or observed=True to adopt the future default and silence this warning.\n",
      "  feat[f\"occ_{h}\"] = feat.groupby(\"station_id\")[\"occ\"].shift(-sh).astype(\"float32\")\n"
     ]
    },
    {
     "name": "stdout",
     "output_type": "stream",
     "text": [
      "Wrote: /Users/sako/Documents/PROJET DISPO VELIB/sample_features.csv with 22 columns\n"
     ]
    }
   ],
   "source": [
    "from pathlib import Path\n",
    "import json, pandas as pd\n",
    "from velib_ml.data import load_timeseries\n",
    "from velib_ml.features import make_features\n",
    "from velib_ml.splits import split_train_test\n",
    "from velib_ml.config import SPLIT_TRAINTEST\n",
    "\n",
    "ROOT = Path.cwd().parent                 # repo root\n",
    "DATA = ROOT / \"data\" / \"raw\" / \"velib_timeseries_5min.csv\"\n",
    "ART  = ROOT / \"artifacts\" / \"v0_1\"\n",
    "\n",
    "# 1) Load raw and build features (same toggles as training)\n",
    "df   = load_timeseries(str(DATA))\n",
    "feat = make_features(df, use_ema=False)   # you trained with --no-ema\n",
    "for d in (feat,):                         # add occ_now like at training\n",
    "    d[\"occ_now\"] = d[\"occ\"].astype(\"float32\")\n",
    "\n",
    "# 2) Train/test split (same quantile as training), then pick a valid row\n",
    "train, test = split_train_test(feat, SPLIT_TRAINTEST)\n",
    "\n",
    "feat_cols = json.load(open(ART / \"feat_cols_delta.json\"))\n",
    "row = test[feat_cols].dropna().head(1)    # one fully-defined row\n",
    "\n",
    "# 3) Save to repo root (so your curl/requests can reuse it)\n",
    "out = ROOT / \"sample_features.csv\"\n",
    "row.to_csv(out, index=False)\n",
    "print(\"Wrote:\", out, \"with\", row.shape[1], \"columns\")\n"
   ]
  },
  {
   "cell_type": "code",
   "execution_count": 19,
   "id": "e11f2f4d",
   "metadata": {},
   "outputs": [
    {
     "name": "stdout",
     "output_type": "stream",
     "text": [
      "{'y_hat_bikes': 5.0, 'occ_hat': 0.1852}\n"
     ]
    }
   ],
   "source": [
    "import pandas as pd, requests, json, pathlib\n",
    "ROOT = pathlib.Path.cwd().parent\n",
    "row = pd.read_csv(ROOT/\"sample_features.csv\").iloc[0].fillna(0.0).to_dict()\n",
    "r = requests.post(\"http://127.0.0.1:8000/predict/30\", json={\"features\": row})\n",
    "print(r.json())\n"
   ]
  }
 ],
 "metadata": {
  "kernelspec": {
   "display_name": "base",
   "language": "python",
   "name": "python3"
  },
  "language_info": {
   "codemirror_mode": {
    "name": "ipython",
    "version": 3
   },
   "file_extension": ".py",
   "mimetype": "text/x-python",
   "name": "python",
   "nbconvert_exporter": "python",
   "pygments_lexer": "ipython3",
   "version": "3.12.4"
  }
 },
 "nbformat": 4,
 "nbformat_minor": 5
}
